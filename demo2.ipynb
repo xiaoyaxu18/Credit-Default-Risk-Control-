{
 "cells": [
  {
   "cell_type": "code",
   "execution_count": 1,
   "id": "2efe82eb",
   "metadata": {},
   "outputs": [],
   "source": [
    "import pandas as pd"
   ]
  },
  {
   "cell_type": "code",
   "execution_count": 2,
   "id": "75641e54",
   "metadata": {},
   "outputs": [],
   "source": [
    "train = pd.read_csv(\"E:/文档/A-实习/shixi2/train.csv\")\n",
    "test = pd.read_csv(\"E:/文档/A-实习/shixi2/testA.csv\")"
   ]
  },
  {
   "cell_type": "code",
   "execution_count": 3,
   "id": "ffcf4313",
   "metadata": {},
   "outputs": [
    {
     "name": "stdout",
     "output_type": "stream",
     "text": [
      "Train data shape: (800000, 47)\n",
      "test data shape: (200000, 46)\n"
     ]
    }
   ],
   "source": [
    "print('Train data shape:', train.shape)\n",
    "print('test data shape:', test.shape)"
   ]
  },
  {
   "cell_type": "code",
   "execution_count": null,
   "id": "9457e6cc",
   "metadata": {},
   "outputs": [],
   "source": []
  }
 ],
 "metadata": {
  "kernelspec": {
   "display_name": "Python 3 (ipykernel)",
   "language": "python",
   "name": "python3"
  },
  "language_info": {
   "codemirror_mode": {
    "name": "ipython",
    "version": 3
   },
   "file_extension": ".py",
   "mimetype": "text/x-python",
   "name": "python",
   "nbconvert_exporter": "python",
   "pygments_lexer": "ipython3",
   "version": "3.8.5"
  }
 },
 "nbformat": 4,
 "nbformat_minor": 5
}
